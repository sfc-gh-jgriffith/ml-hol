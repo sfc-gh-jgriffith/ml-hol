{
 "metadata": {
  "kernelspec": {
   "display_name": "Streamlit Notebook",
   "name": "streamlit"
  }
 },
 "nbformat_minor": 5,
 "nbformat": 4,
 "cells": [
  {
   "cell_type": "code",
   "id": "3775908f-ca36-4846-8f38-5adca39217f2",
   "metadata": {
    "language": "python",
    "name": "IMPORTS_AND_CONNECTION"
   },
   "source": "# Import python packages\nimport streamlit as st\nimport pandas as pd\n\n# We can also use Snowpark for our analyses!\nfrom snowflake.snowpark.context import get_active_session\nsession = get_active_session()\n",
   "execution_count": null,
   "outputs": []
  },
  {
   "cell_type": "code",
   "id": "8d50cbf4-0c8d-4950-86cb-114990437ac9",
   "metadata": {
    "language": "sql",
    "name": "cell2",
    "codeCollapsed": false
   },
   "source": "-- Note, your database and schema context for this table was set on page 2 step 2\n-- query a sample of the ingested data\nSELECT *\n    FROM ml_functions.tasty_byte_sales\n    WHERE menu_item_name LIKE 'Lobster Mac & Cheese';",
   "execution_count": null,
   "outputs": []
  },
  {
   "cell_type": "code",
   "id": "6bec22cf-c431-449e-9b39-41570f467072",
   "metadata": {
    "language": "python",
    "name": "cell4",
    "codeCollapsed": false
   },
   "outputs": [],
   "source": "st.line_chart(cell2.to_pandas(), x=\"DATE\", y=\"TOTAL_SOLD\")",
   "execution_count": null
  },
  {
   "cell_type": "code",
   "id": "c695373e-ac74-4b62-a1f1-08206cbd5c81",
   "metadata": {
    "language": "sql",
    "name": "cell3",
    "codeCollapsed": false
   },
   "source": "-- Create table containing the latest years worth of sales data: \nCREATE OR REPLACE TABLE vancouver_sales AS (\n    SELECT\n        to_timestamp_ntz(date) AS timestamp,\n        primary_city,\n        menu_item_name,\n        total_sold\n    FROM\n        ml_functions.tasty_byte_sales\n    WHERE\n        date > (SELECT max(date) - interval '1 year' FROM ml_functions.tasty_byte_sales)\n    GROUP BY\n        all\n);\n\n\n-- Create view for lobster sales\nCREATE OR REPLACE VIEW lobster_sales AS (\n    SELECT\n        timestamp,\n        total_sold\n    FROM\n        vancouver_sales\n    WHERE\n        menu_item_name LIKE 'Lobster Mac & Cheese'\n);\n",
   "execution_count": null,
   "outputs": []
  },
  {
   "cell_type": "code",
   "id": "4b5eab7f-e498-4686-8efb-324ceefa164a",
   "metadata": {
    "language": "sql",
    "name": "CREATE_FORECAST",
    "codeCollapsed": false
   },
   "outputs": [],
   "source": "-- Build Forecasting model; this could take ~15-25 secs; please be patient\nCREATE OR REPLACE forecast lobstermac_forecast (\n    INPUT_DATA => SYSTEM$REFERENCE('VIEW', 'lobster_sales'),\n    TIMESTAMP_COLNAME => 'TIMESTAMP',\n    TARGET_COLNAME => 'TOTAL_SOLD'\n);\n\n-- Show models to confirm training has completed\nSHOW forecast;",
   "execution_count": null
  },
  {
   "cell_type": "markdown",
   "id": "dffbeb65-38d0-4eea-8fc6-1cae386beedf",
   "metadata": {
    "name": "cell8",
    "collapsed": false
   },
   "source": "## Call the forecast model"
  },
  {
   "cell_type": "code",
   "id": "790c9349-d28a-42ba-a69f-59cc2b958a68",
   "metadata": {
    "language": "sql",
    "name": "CALL_FORECAST",
    "codeCollapsed": false
   },
   "outputs": [],
   "source": "-- Create predictions, and save results to a table:  \nCALL lobstermac_forecast!FORECAST(FORECASTING_PERIODS => 10);",
   "execution_count": null
  },
  {
   "cell_type": "markdown",
   "id": "ece458e3-e2b5-4085-ba28-3d3c0e75211f",
   "metadata": {
    "name": "cell11",
    "collapsed": false
   },
   "source": "### Call the forecast model with a 90% prediction interval."
  },
  {
   "cell_type": "code",
   "id": "6a1720a2-aa58-4518-9063-b8f238b64123",
   "metadata": {
    "language": "sql",
    "name": "PREDICTION_INTERVAL",
    "codeCollapsed": false
   },
   "outputs": [],
   "source": "CALL lobstermac_forecast!FORECAST(FORECASTING_PERIODS => 10, CONFIG_OBJECT => {'prediction_interval': .9});",
   "execution_count": null
  },
  {
   "cell_type": "code",
   "id": "30e2d0ac-fbd0-43aa-b488-105167bed9ce",
   "metadata": {
    "language": "python",
    "name": "CHART_PREDICTION_INTERVALS",
    "codeCollapsed": false
   },
   "outputs": [],
   "source": "st.line_chart(CALL_FORECAST.to_df(), x=\"TS\", y=[\"FORECAST\", \"LOWER_BOUND\", \"UPPER_BOUND\"])",
   "execution_count": null
  },
  {
   "cell_type": "markdown",
   "id": "531a077b-a42d-4b0a-8303-91bc00dcbb9c",
   "metadata": {
    "name": "cell12",
    "collapsed": false
   },
   "source": "### Chart history and forecast"
  },
  {
   "cell_type": "code",
   "id": "48e47e61-ec53-4064-b6a0-7e36bc9f0f0e",
   "metadata": {
    "language": "sql",
    "name": "HISTORY_WITH_FORECAST",
    "codeCollapsed": false
   },
   "outputs": [],
   "source": "select \n    timestamp, \n    total_sold, \n    null::int as forecast\nfrom lobster_sales\nqualify row_number() over (order by timestamp desc) <= 30\nunion all \nselect\n    ts as timestamp, \n    null::int as total_sold,\n    forecast\nfrom \n    table(lobstermac_forecast!FORECAST(FORECASTING_PERIODS => 10))",
   "execution_count": null
  },
  {
   "cell_type": "code",
   "id": "dc7ec3ee-6abc-41a7-9f37-6920af026d82",
   "metadata": {
    "language": "python",
    "name": "CHART_HISTORY_WITH_FORECAST",
    "codeCollapsed": false
   },
   "outputs": [],
   "source": "st.line_chart(HISTORY_WITH_FORECAST.to_df(), x=\"TIMESTAMP\", y=[\"TOTAL_SOLD\",\"FORECAST\"])",
   "execution_count": null
  },
  {
   "cell_type": "markdown",
   "id": "782ab22f-a543-45b2-8dc0-44880a47c0cc",
   "metadata": {
    "name": "cell13",
    "collapsed": false
   },
   "source": "## Build Multiple Forecasts and Add Holiday Information"
  },
  {
   "cell_type": "markdown",
   "id": "ee2dd00f-80d3-4b38-bfc4-d80297c4edd6",
   "metadata": {
    "name": "MULTI_SERIES_FORECAST",
    "collapsed": false
   },
   "source": "### Build Multi-Series Forecast for Vancouver"
  },
  {
   "cell_type": "code",
   "id": "23020d25-d773-4cf0-a6e2-7fc4588b51c6",
   "metadata": {
    "language": "sql",
    "name": "CANADIAN_HOLIDAYS",
    "collapsed": false,
    "codeCollapsed": false
   },
   "outputs": [],
   "source": "-- BUILD MULTI_SERIES \n-- Create a view for the holidays in Vancouver, which is located in British Columbia (BC) in Cananda (CA)\nCREATE OR REPLACE VIEW canadian_holidays AS (\n    SELECT\n        date,\n        holiday_name,\n        is_financial\n    FROM\n        frostbyte_cs_public.cybersyn.public_holiday_calendar\n    WHERE\n        ISO_ALPHA2 LIKE 'CA'\n        AND date > '2022-01-01'\n        AND (\n            subdivision IS null\n            OR subdivision LIKE 'BC'\n        )\n    ORDER BY\n        date ASC\n);",
   "execution_count": null
  },
  {
   "cell_type": "code",
   "id": "b2ac2f06-5ed5-4713-83ed-b1806b2e0e52",
   "metadata": {
    "language": "sql",
    "name": "cell16"
   },
   "outputs": [],
   "source": "\n-- Create a view for our training data, including the holidays for all items sold\nCREATE OR REPLACE VIEW allitems_vancouver AS (\n    SELECT\n        vs.timestamp,\n        vs.menu_item_name,\n        vs.total_sold,\n        ch.holiday_name\n    FROM \n        vancouver_sales vs\n        LEFT JOIN canadian_holidays ch ON vs.timestamp = ch.date\n    WHERE MENU_ITEM_NAME IN ('Mothers Favorite', 'Bottled Soda', 'Ice Tea')\n);\nselect * from allitems_vancouver limit 100;",
   "execution_count": null
  },
  {
   "cell_type": "code",
   "id": "ead8d549-9b0a-47de-94ff-bef23d7d3312",
   "metadata": {
    "language": "sql",
    "name": "CREAT_MULTI_SERIES_FORECAST",
    "codeCollapsed": false
   },
   "outputs": [],
   "source": "\n-- Train Model; this could take ~15-25 secs; please be patient\nCREATE OR REPLACE forecast vancouver_forecast (\n    INPUT_DATA => SYSTEM$REFERENCE('VIEW', 'allitems_vancouver'),\n    SERIES_COLNAME => 'MENU_ITEM_NAME',\n    TIMESTAMP_COLNAME => 'TIMESTAMP',\n    TARGET_COLNAME => 'TOTAL_SOLD'\n);\n\n-- show it\nSHOW forecast;",
   "execution_count": null
  },
  {
   "cell_type": "markdown",
   "id": "b525aa9c-dab1-47ee-ae9b-21a6d589068c",
   "metadata": {
    "name": "cell14",
    "collapsed": false
   },
   "source": "### Create Predictions for multiple Series\nBecause we're using exogenous variables and have multiple series, we need can't simply define `FORECASTING_PERIODS`. We to feed those to the `FORECAST` method. "
  },
  {
   "cell_type": "code",
   "id": "c2258aa6-9b4a-46c8-a9d4-f44b8cb14637",
   "metadata": {
    "language": "sql",
    "name": "CREATE_INFERENCE_DATASET",
    "codeCollapsed": false
   },
   "outputs": [],
   "source": "CREATE OR REPLACE VIEW vancouver_forecast_data AS (\n    WITH future_dates AS (\n        SELECT\n            '2023-05-28' ::DATE + row_number() OVER (\n                ORDER BY\n                    0\n            ) AS timestamp\n        FROM\n            TABLE(generator(rowcount => 60))\n    ),\n    food_items AS (\n        SELECT\n            DISTINCT menu_item_name\n        FROM\n            allitems_vancouver\n    ),\n    joined_menu_items AS (\n        SELECT\n            *\n        FROM\n            food_items\n            CROSS JOIN future_dates\n        ORDER BY\n            menu_item_name ASC,\n            timestamp ASC\n    )\n    SELECT\n        jmi.menu_item_name,\n        to_timestamp_ntz(jmi.timestamp) AS timestamp,\n        ch.holiday_name\n    FROM\n        joined_menu_items AS jmi\n        LEFT JOIN canadian_holidays ch ON jmi.timestamp = ch.date\n    ORDER BY\n        jmi.menu_item_name ASC,\n        jmi.timestamp ASC\n);\nselect * from vancouver_forecast_data",
   "execution_count": null
  },
  {
   "cell_type": "code",
   "id": "1a237303-21af-4f3c-be7e-dc5c527daeff",
   "metadata": {
    "language": "sql",
    "name": "PREDICT_MULTI_SERIES",
    "codeCollapsed": false
   },
   "outputs": [],
   "source": "CALL vancouver_forecast!forecast(\n        INPUT_DATA => SYSTEM$REFERENCE('VIEW', 'vancouver_forecast_data'),\n        SERIES_COLNAME => 'menu_item_name',\n        TIMESTAMP_COLNAME => 'timestamp'\n    );",
   "execution_count": null
  },
  {
   "cell_type": "code",
   "id": "5cf02d3f-03fa-45fe-950b-7b039ff69359",
   "metadata": {
    "language": "sql",
    "name": "WRITE_PREDICTIONS",
    "codeCollapsed": false
   },
   "outputs": [],
   "source": "create or replace table vancouver_predictions as\nselect * \nfrom table(\n        vancouver_forecast!forecast(\n            INPUT_DATA => SYSTEM$REFERENCE('VIEW', 'vancouver_forecast_data'),\n            SERIES_COLNAME => 'menu_item_name',\n            TIMESTAMP_COLNAME => 'timestamp'\n            )   \n        )",
   "execution_count": null
  },
  {
   "cell_type": "markdown",
   "id": "ccb22cb0-944e-4e0d-a829-8b23fda66931",
   "metadata": {
    "name": "MODEL_EVAL",
    "collapsed": false
   },
   "source": "### Model Evaluation"
  },
  {
   "cell_type": "code",
   "id": "0161b64f-9c4a-4487-8ac1-2ade26be3f96",
   "metadata": {
    "language": "sql",
    "name": "cell20",
    "codeCollapsed": false
   },
   "outputs": [],
   "source": "-- get Feature Importance\nCALL VANCOUVER_FORECAST!explain_feature_importance();",
   "execution_count": null
  },
  {
   "cell_type": "code",
   "id": "e6eff057-385f-4996-9122-bbf6adc8bec8",
   "metadata": {
    "language": "sql",
    "name": "cell22",
    "codeCollapsed": false
   },
   "outputs": [],
   "source": "-- Evaluate model performance:\nCALL VANCOUVER_FORECAST!show_evaluation_metrics();",
   "execution_count": null
  },
  {
   "cell_type": "markdown",
   "id": "17dad8f3-6212-4078-9463-5b9c86332e69",
   "metadata": {
    "name": "ANOMALY_DETECTION",
    "collapsed": false
   },
   "source": "## Anomaly Detection"
  },
  {
   "cell_type": "code",
   "id": "860e5a41-799b-43b1-a753-a3b0d93b76be",
   "metadata": {
    "language": "sql",
    "name": "cell24",
    "collapsed": false,
    "codeCollapsed": false
   },
   "outputs": [],
   "source": "-- Create datasets for training and predictions\n-- Create a view containing our training data\nCREATE OR REPLACE VIEW vancouver_anomaly_training_set AS (\n    SELECT *\n    FROM vancouver_sales\n    WHERE timestamp < (SELECT MAX(timestamp) FROM vancouver_sales) - interval '1 Month'\n);\n\n-- Create a view containing the data we want to make inferences on\nCREATE OR REPLACE VIEW vancouver_anomaly_analysis_set AS (\n    SELECT *\n    FROM vancouver_sales\n    WHERE timestamp > (SELECT MAX(timestamp) FROM vancouver_anomaly_training_set)\n);\n\nselect * from  vancouver_anomaly_training_set limit 100;",
   "execution_count": null
  },
  {
   "cell_type": "code",
   "id": "cedadaf3-5550-4651-9f30-d26026a06e7d",
   "metadata": {
    "language": "sql",
    "name": "CREATE_ANOMALY_DETECTION_MODEL",
    "codeCollapsed": false
   },
   "outputs": [],
   "source": "-- Create the model: UNSUPERVISED method, however can pass labels as well; this could take ~15-25 secs; please be patient \nCREATE OR REPLACE snowflake.ml.anomaly_detection vancouver_anomaly_model(\n    INPUT_DATA => SYSTEM$REFERENCE('VIEW', 'vancouver_anomaly_training_set'),\n    SERIES_COLNAME => 'MENU_ITEM_NAME',\n    TIMESTAMP_COLNAME => 'TIMESTAMP',\n    TARGET_COLNAME => 'TOTAL_SOLD',\n    LABEL_COLNAME => ''\n); ",
   "execution_count": null
  },
  {
   "cell_type": "code",
   "id": "c2e902c8-f6e4-4002-b4b9-21c93271e3af",
   "metadata": {
    "language": "sql",
    "name": "PREDICT_ANOMALY_DETECTION",
    "codeCollapsed": false
   },
   "outputs": [],
   "source": "-- Call the model and store the results into table; this could take ~10-20 secs; please be patient\nCALL vancouver_anomaly_model!DETECT_ANOMALIES(\n    INPUT_DATA => SYSTEM$REFERENCE('VIEW', 'vancouver_anomaly_analysis_set'),\n    SERIES_COLNAME => 'MENU_ITEM_NAME',\n    TIMESTAMP_COLNAME => 'TIMESTAMP',\n    TARGET_COLNAME => 'TOTAL_SOLD',\n    CONFIG_OBJECT => {'prediction_interval': 0.95}\n);",
   "execution_count": null
  },
  {
   "cell_type": "code",
   "id": "53542958-174e-44aa-86ee-25ecf89c60c1",
   "metadata": {
    "language": "sql",
    "name": "cell27",
    "codeCollapsed": false
   },
   "outputs": [],
   "source": "CREATE OR REPLACE TABLE vancouver_anomalies AS (\n    SELECT *\n    FROM TABLE(\n        vancouver_anomaly_model!DETECT_ANOMALIES(\n            INPUT_DATA => SYSTEM$REFERENCE('VIEW', 'vancouver_anomaly_analysis_set'),\n            SERIES_COLNAME => 'MENU_ITEM_NAME',\n            TIMESTAMP_COLNAME => 'TIMESTAMP',\n            TARGET_COLNAME => 'TOTAL_SOLD',\n            CONFIG_OBJECT => {'prediction_interval': 0.95}\n        )\n    )\n);",
   "execution_count": null
  },
  {
   "cell_type": "markdown",
   "id": "0c2be275-2f7f-4abb-8922-5f57ba9362d8",
   "metadata": {
    "name": "cell26",
    "collapsed": false
   },
   "source": "## Productionize Training and Alert for Anomalies"
  },
  {
   "cell_type": "markdown",
   "id": "7557a60f-9e48-45ab-a054-5a98dce2b21a",
   "metadata": {
    "name": "cell28",
    "collapsed": false
   },
   "source": "### Create task to retrain the model each month\n```sql\n-- Note: It's important to update the recipient email twice in the code below\n-- Create a task to run every month to retrain the anomaly detection model: \nCREATE OR REPLACE TASK ad_vancouver_training_task\n    WAREHOUSE = quickstart_wh\n    SCHEDULE = 'USING CRON 0 0 1 * * America/Los_Angeles' -- Runs once a month\nAS\nCREATE OR REPLACE snowflake.ml.anomaly_detection vancouver_anomaly_model(\n    INPUT_DATA => SYSTEM$REFERENCE('VIEW', 'vancouver_anomaly_training_set'),\n    SERIES_COLNAME => 'MENU_ITEM_NAME',\n    TIMESTAMP_COLNAME => 'TIMESTAMP',\n    TARGET_COLNAME => 'TOTAL_SOLD',\n    LABEL_COLNAME => ''\n); \n```\n\n### Procedure to extract anomalies\n```sql\n-- Creates a Stored Procedure to extract the anomalies from our freshly trained model: \nCREATE OR REPLACE PROCEDURE extract_anomalies()\nRETURNS TABLE ()\nLANGUAGE sql \nAS\nBEGIN\n    CALL vancouver_anomaly_model!DETECT_ANOMALIES(\n    INPUT_DATA => SYSTEM$REFERENCE('VIEW', 'vancouver_anomaly_analysis_set'),\n    SERIES_COLNAME => 'MENU_ITEM_NAME',\n    TIMESTAMP_COLNAME => 'TIMESTAMP',\n    TARGET_COLNAME => 'TOTAL_SOLD',\n    CONFIG_OBJECT => {'prediction_interval': 0.95});\nDECLARE res RESULTSET DEFAULT (\n    SELECT series, is_anomaly, count(is_anomaly) as num_records \n    FROM TABLE(result_scan(-1)) \n    WHERE is_anomaly = 1 \n    GROUP BY ALL\n    HAVING num_records > 5\n    ORDER BY num_records DESC);\nBEGIN \n    RETURN table(res);\nEND;\nEND;\n```\n\nProcedure to send email with extracted anomalies\n```sql\n-- Create an email integration: \nCREATE OR REPLACE NOTIFICATION INTEGRATION my_email_int\nTYPE = EMAIL\nENABLED = TRUE\nALLOWED_RECIPIENTS = ('<EMAIL-RECIPIENT>');  -- update the recipient's email here\n\n-- Create Snowpark Python Stored Procedure to format email and send it\nCREATE OR REPLACE PROCEDURE send_anomaly_report()\nRETURNS string\nLANGUAGE python\nruntime_version = 3.9\npackages = ('snowflake-snowpark-python')\nhandler = 'send_email'\n-- update the recipient's email below\nAS\n$$\ndef send_email(session):\n    session.call('extract_anomalies').collect()\n    printed = session.sql(\n        \"select * from table(result_scan(last_query_id(-1)))\"\n      ).to_pandas().to_html()\n    session.call('system$send_email',\n        'my_email_int',\n        '<EMAIL RECIPIENT HERE!>',\n        'Email Alert: Anomaly Report Has Been created',\n        printed,\n        'text/html')\n$$;\n```\n\nRun anomaly alert after training task\n```sql\n-- Orchestrating the Tasks: \nCREATE OR REPLACE TASK send_anomaly_report_task\n    warehouse = quickstart_wh\n    AFTER AD_VANCOUVER_TRAINING_TASK\n    AS CALL send_anomaly_report();\n\n-- Steps to resume and then immediately execute the task DAG:  \nALTER TASK SEND_ANOMALY_REPORT_TASK RESUME;\nALTER TASK AD_VANCOUVER_TRAINING_TASK RESUME;\nEXECUTE TASK AD_VANCOUVER_TRAINING_TASK;\n```\n\nExample Email:\n![Example Email](https://quickstarts.snowflake.com/guide/ml_forecasting_ad/img/8e1a9b961a73e461.png)"
  },
  {
   "cell_type": "markdown",
   "id": "8d7679cd-fa2e-4ab7-a2a4-46083c19e70c",
   "metadata": {
    "name": "cell29",
    "collapsed": false
   },
   "source": ""
  }
 ]
}